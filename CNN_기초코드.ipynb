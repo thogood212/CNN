{
  "nbformat": 4,
  "nbformat_minor": 0,
  "metadata": {
    "colab": {
      "name": "CNN 기초코드.ipynb",
      "provenance": [],
      "collapsed_sections": []
    },
    "kernelspec": {
      "name": "python3",
      "display_name": "Python 3"
    },
    "language_info": {
      "name": "python"
    }
  },
  "cells": [
    {
      "cell_type": "markdown",
      "source": [
        "#CNN\n",
        "## CNN 초기화 인수\n",
        "- input_dim = 입력 데이터(채널 수, 높이,너비)의 차원\n",
        "- conv_param = 합성곱 계층의 하이퍼 파라미터\n",
        "  -filter_num = 필터 수\n",
        "  - filter_size = 필터 크기\n",
        "  - stride = 스트라이드\n",
        "  - pad = 패딩\n",
        "  - hidden_size = 은닉층 뉴런 수\n",
        "  - output_size = 출력층 뉴런 수\n",
        "  - weight_init_std = 초기화 때의 가중치 표준편차"
      ],
      "metadata": {
        "id": "2ZLOeKrvhJgq"
      }
    },
    {
      "cell_type": "code",
      "source": [
        "import numpy as np\n",
        "#from common.util import im2col\n",
        "#import OrderedDict\n",
        "#import SoftmaxWithLoss"
      ],
      "metadata": {
        "id": "eevCRHQxn8V5"
      },
      "execution_count": 7,
      "outputs": []
    },
    {
      "cell_type": "code",
      "source": [
        "#reshape 예시\n",
        "W= np.random.rand(10,3,5,5)\n",
        "FN,C,FH,FW = W.shape\n",
        "\n",
        "W = W.reshape(FN,-1).T\n",
        "print(W.shape)"
      ],
      "metadata": {
        "colab": {
          "base_uri": "https://localhost:8080/"
        },
        "id": "B-kM8FSEub7r",
        "outputId": "c368f3b0-2b6e-4ddf-9757-695396c57b07"
      },
      "execution_count": 9,
      "outputs": [
        {
          "output_type": "stream",
          "name": "stdout",
          "text": [
            "(75, 10)\n"
          ]
        }
      ]
    },
    {
      "cell_type": "code",
      "source": [
        "class Convolution:\n",
        "  def __init__(self, W, b, stride=1, pad=0) :\n",
        "    self.W = W\n",
        "    self.b = b\n",
        "    self.stride = stride\n",
        "    self.pad = pad\n",
        "  \n",
        "  def forward(self,x):\n",
        "    FN, C, FH, FW = self.W.shape #FN:필터개수, C:채널개수, FH,FW: 필터높이,너비\n",
        "    N, C, H, W = x.shape\n",
        "    out_h = int(1 + (H + 2*self.pad - FH) / self.stride)\n",
        "    out_w = int(1 + (W + 2*self.pad - FW) / self.stride)\n",
        "\n",
        "    col = im2col(x, FH, FW, self.stride, self.pad)\n",
        "    col_W = self.w.reshape(FN, -1).T #필터 전개(2차원 배열로)\n",
        "    out = np.dot(col,col_W) + self.b\n",
        "\n",
        "    out = out.reshape(N, out_h, out_w, -1).transpose(0,3,1,2) # 배열 위치 변경"
      ],
      "metadata": {
        "id": "5kU9C89wqO7Q"
      },
      "execution_count": 11,
      "outputs": []
    },
    {
      "cell_type": "code",
      "source": [
        "#풀링 계층 정의\n",
        "class Pooling:\n",
        "  def __init__(self, pool_h, pool_w, stride=1, pad=0):\n",
        "    self.pool_h = pool_h\n",
        "    self.pool_w = pool_w\n",
        "    self.stride = stride\n",
        "    self.pad = pad\n",
        "\n",
        "  def forward(self,x):\n",
        "    N, C, H, W = x.shape\n",
        "    out_h = int(1+(H-self.pool_h)/self.stride)\n",
        "    out_w = int(1+(W-self.pool_w)/self.stride)\n",
        "\n",
        "    # 전개(1)\n",
        "    col = im2col(x, self.pool_h, self.pool_w, self.stride, self.pad)\n",
        "    col = col.reshape(-1, self.pool_h*self.pool_w)\n",
        "\n",
        "    # 최대값(2)\n",
        "    out = np.max(col, axis=1)\n",
        "\n",
        "    # 성형(3)\n",
        "    out = out.reshape(N, out_h, out_w, C).transpose(0,3,1,2)\n",
        "\n",
        "    return out"
      ],
      "metadata": {
        "id": "TINCG4IUr4sK"
      },
      "execution_count": 12,
      "outputs": []
    },
    {
      "cell_type": "code",
      "source": [
        "# 클래스 정의\n",
        "class SimpleConvNet:\n",
        "  #합성곱 계층의 하이퍼 파라미터를 딕셔너리에 저장\n",
        "  def __init__(self, input_dim=(1,28,28),\n",
        "               conv_param = {'filter_num':30, 'filter_size':5, 'pad':0, 'stride':1},\n",
        "               hidden_size=100, output_size=10, weight_init_std=0.001):\n",
        "    filter_num = conv_param['filter_num']\n",
        "    filter_size = conv_param['filter_size']\n",
        "    filter_pad = conv_param['pad']\n",
        "    filter_stride = conv_param['stride']\n",
        "    input_size = input_dim[1]\n",
        "    conv_output_size = (input_size - filter_size +2*filter_pad)/ filter_stride +1\n",
        "    pool_output_size = int(filter_num*(conv_output_size/2)*(conv_output_size/2))\n",
        "\n",
        "    \n",
        "    #가중치 매개변수 초기화\n",
        "    self.params = {}\n",
        "    self.params['W1'] = weight_init_std * np.random.randn(filter_num, input_dim[0], filter_size, filter_size)\n",
        "    self.params['b1'] = np.zeros(filter_num)\n",
        "    self.params['W2'] = weight_init_std * np.random.randn(pool_output_size, hidden_size)\n",
        "    self.params['b2'] = np.zeros(hidden_size)\n",
        "\n",
        "    #CNN 구성 계층 생성\n",
        "    self.layers = OrderedDict()\n",
        "    self.layers['Conv1'] = Convolution(self.params['W1'], self.params['b1'], conv_param['stride'], conv_param['pad'])\n",
        "    self.layers['Relu1'] = Relu()\n",
        "    self.layers['Affine1'] = Affine(self.params['W2'],self.params['b2'])\n",
        "    self.layers['Relu2'] = Relu()\n",
        "    self.layers['Affine2'] = Affine(self.params['W3'],self.params['b3'])\n",
        "    \n",
        "    self.last_layer = SoftmaxWithLoss()\n",
        "\n",
        "#predict, loss 메서드\n",
        "  def predict(self,x):\n",
        "    for layer in self.layers.values():\n",
        "      x = layer.forward(x)\n",
        "    return x\n",
        "  \n",
        "  def loss(self,x,t):\n",
        "    y = self.predict(x)\n",
        "    return self.lastLayer.forward(y,t)\n",
        "\n",
        "#오차역전파 기울기 구하기\n",
        "  def gradient(self, x, t):\n",
        "    #순전파\n",
        "    self.loss(x,t)\n",
        "\n",
        "    #역전파\n",
        "    dout = 1\n",
        "    dout = self.lastLayer.backward(dout)\n",
        "\n",
        "    layers = list(self.layers.values())\n",
        "    layers.reverse()\n",
        "    for layer in layers:\n",
        "      dout = layer.backward(dout)\n",
        "    \n",
        "    #결과 저장\n",
        "    grads= {}\n",
        "    grads['W1'] = self.layers['Conv1'].dW\n",
        "    grads['b1'] = self.layers['Conv1'].db\n",
        "    grads['W2'] = self.layers['Alffine1'].dW\n",
        "    grads['b2'] = self.layers['Alffine1'].db\n",
        "    grads['W3'] = self.layers['Alffine2'].dW\n",
        "    grads['b3'] = self.layers['Alffine2'].db\n",
        "\n",
        "    return grads"
      ],
      "metadata": {
        "id": "gbFZS7VOhMOY"
      },
      "execution_count": 15,
      "outputs": []
    },
    {
      "cell_type": "markdown",
      "source": [
        "#CNN 기초(https://cs231n.github.io/convolutional-networks/)\n",
        "\n",
        "- 합성곱 계층의 입출력 데이터를 특징맵(Feature map)이라고도 합니다.\n",
        "- 합성곱 연산 후 출력데이터 크기는  \n",
        "OH = {(H + 2*P - FH)/S} + 1  \n",
        "OW = {(W + 2*P - FW)/S} + 1\n",
        "(데이터 입력크기:(H,W), 필터 크기 : (FH,FW), 출력 크기 : (OH,OW), 패딩 : P, 스트라이드, S)\n",
        "*** 해당 연산을 통해 출력 크기가 정수가 아닌 경우에는 가장 가까운 정수로 반올림한다.\n",
        "\n"
      ],
      "metadata": {
        "id": "RboP4N35oM-Z"
      }
    }
  ]
}